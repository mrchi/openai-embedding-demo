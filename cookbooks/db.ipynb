{
 "cells": [
  {
   "attachments": {},
   "cell_type": "markdown",
   "metadata": {},
   "source": [
    "# 数据库初始化"
   ]
  },
  {
   "attachments": {},
   "cell_type": "markdown",
   "metadata": {},
   "source": [
    "创建数据库并启用 pgvector extension\n",
    "\n",
    "```sql\n",
    "create database chi;\n",
    "grant all privileges on database chi to chi;\n",
    "\n",
    "-- 连接到目标数据库后 \\c chi\n",
    "create extension if not exists vector;\n",
    "```\n"
   ]
  },
  {
   "attachments": {},
   "cell_type": "markdown",
   "metadata": {},
   "source": [
    "创建表\n",
    "\n",
    "```sql\n",
    "create table docs (\n",
    "    id bigserial primary key,\n",
    "    title text,\n",
    "    content text,\n",
    "    token_size integer,\n",
    "    embedding vector(1536)\n",
    ");\n",
    "```"
   ]
  },
  {
   "attachments": {},
   "cell_type": "markdown",
   "metadata": {},
   "source": [
    "给 embedding 字段创建索引\n",
    "\n",
    "```sql\n",
    "create index on docs using ivfflat (embedding vector_cosine_ops) with (lists = 100);\n",
    "```\n"
   ]
  }
 ],
 "metadata": {
  "kernelspec": {
   "display_name": ".venv",
   "language": "python",
   "name": "python3"
  },
  "language_info": {
   "name": "python",
   "version": "3.11.4"
  },
  "orig_nbformat": 4
 },
 "nbformat": 4,
 "nbformat_minor": 2
}
