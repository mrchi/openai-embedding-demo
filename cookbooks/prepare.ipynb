{
 "cells": [
  {
   "attachments": {},
   "cell_type": "markdown",
   "metadata": {},
   "source": [
    "# 请求数据"
   ]
  },
  {
   "cell_type": "code",
   "execution_count": 1,
   "metadata": {},
   "outputs": [],
   "source": [
    "import requests\n",
    "from bs4 import BeautifulSoup\n",
    "import re"
   ]
  },
  {
   "cell_type": "code",
   "execution_count": 2,
   "metadata": {},
   "outputs": [
    {
     "data": {
      "text/plain": [
       "{'title': '15. 与足浴协会共建商学院？湖南大学否认',\n",
       " 'content': '6月12日，一段网络视频显示，湖南大学经济与贸易学院与湖南省足浴按摩行业协会共建商学院，揭牌仪式启动，受到网友关注。6月13日，湖南大学经济与贸易学院声明称，关注到网络上有关“湖南省足浴按摩行业协会与湖南大学经济贸易学院共建商学院揭牌仪式”的信息。经核查，学院未与该协会开展合作，该活动未经学院同意。湖南大学经济与贸易学院工作人员称，是有人冒用学校名义做的，目前正在调查取证中。目前正在取证中，会追究法律责任。\\n湖南足浴按摩协会秘书长：对就业有好处，希望湖大提供智力支持\\n据九派新闻，对于经济与贸易学院工作人员的否认，湖南省足浴按摩行业协会一工作人员称：“这肯定是真的，估计学院内部协调出现了问题，我也不太清楚对接人是谁。”另据新京报我们视频报道，对于此事，湖南足浴按摩行业秘书长刘先生接受采访时表示，（足浴是）劳动密集型的行业，对解决就业有很好的作用。希望湖大提供智力支持，规范协会发展。湖南有40多万足浴从业人员，希望社会对这个行业有更高更正确的认识。\\nhttps://www.nbd.com.cn/articles/2023-06-13/2870348.html'}"
      ]
     },
     "execution_count": 2,
     "metadata": {},
     "output_type": "execute_result"
    }
   ],
   "source": [
    "pattern = re.compile(r'\\d+\\. .*?')\n",
    "url = \"https://mp.weixin.qq.com/s?__biz=MzU4MTU1NzI4Mw==&mid=2247651261&idx=1&sn=ca4bfc8f0145198afeb6cc3d5ee08a66&chksm=fd4902f1ca3e8be77055a4158e9275f4802b27526cc9ef9e6728a2c0f262f242b5ea29886a40&scene=58&subscene=0#rd\"\n",
    "resp = requests.get(url)\n",
    "soup = BeautifulSoup(resp.text, \"html.parser\")\n",
    "body = soup.select(\"div#js_content > section[mpa-from-tpl=t]\")[0]\n",
    "paragraphs = [i.text.strip() for i in body if i.text.strip()]\n",
    "result = []\n",
    "content = []\n",
    "for p in paragraphs:\n",
    "    if pattern.match(p) and content:\n",
    "        result.append({\n",
    "            \"title\": content[0],\n",
    "            \"content\": \"\\n\".join(content[1:])\n",
    "        })\n",
    "        content = [p]\n",
    "    else:\n",
    "        content.append(p)\n",
    "else:\n",
    "    result.append({\n",
    "        \"title\": content[0],\n",
    "        \"content\": \"\\n\".join(content[1:])\n",
    "    })\n",
    "\n",
    "result[-1]"
   ]
  },
  {
   "attachments": {},
   "cell_type": "markdown",
   "metadata": {},
   "source": [
    "# 计算 embedding 和 token_size"
   ]
  },
  {
   "cell_type": "code",
   "execution_count": 3,
   "metadata": {},
   "outputs": [],
   "source": [
    "import openai\n",
    "import tiktoken"
   ]
  },
  {
   "cell_type": "code",
   "execution_count": 4,
   "metadata": {},
   "outputs": [
    {
     "data": {
      "text/plain": [
       "15"
      ]
     },
     "execution_count": 4,
     "metadata": {},
     "output_type": "execute_result"
    }
   ],
   "source": [
    "model = \"text-embedding-ada-002\"\n",
    "openai.api_key = \"sk-xxxxx\"\n",
    "encoding = tiktoken.get_encoding(\"cl100k_base\")\n",
    "\n",
    "records = []\n",
    "for i in result:\n",
    "    resp = openai.Embedding.create(\n",
    "        model=model,\n",
    "        input=i[\"content\"]\n",
    "    )\n",
    "    records.append({\n",
    "        \"title\": i[\"title\"],\n",
    "        \"content\": i[\"content\"],\n",
    "        \"embedding\": resp[\"data\"][0][\"embedding\"],\n",
    "        \"token_size\": len(encoding.encode(i[\"content\"]))\n",
    "    })\n",
    "\n",
    "len(records)"
   ]
  },
  {
   "attachments": {},
   "cell_type": "markdown",
   "metadata": {},
   "source": [
    "# 入库"
   ]
  },
  {
   "cell_type": "code",
   "execution_count": 6,
   "metadata": {},
   "outputs": [],
   "source": [
    "import psycopg2\n",
    "conn = psycopg2.connect(database=\"chi\", host=\"localhost\", user=\"chi\", password=\"\", port=\"5432\")\n",
    "\n",
    "cur = conn.cursor()\n",
    "insert_query = \"\"\"INSERT INTO docs (title, content, token_size, embedding) VALUES (%s, %s, %s, %s);\"\"\"\n",
    "\n",
    "for i in records:\n",
    "    cur.execute(insert_query, (i['title'], i['content'], i['token_size'], i['embedding']))\n",
    "\n",
    "conn.commit()"
   ]
  }
 ],
 "metadata": {
  "kernelspec": {
   "display_name": ".venv",
   "language": "python",
   "name": "python3"
  },
  "language_info": {
   "codemirror_mode": {
    "name": "ipython",
    "version": 3
   },
   "file_extension": ".py",
   "mimetype": "text/x-python",
   "name": "python",
   "nbconvert_exporter": "python",
   "pygments_lexer": "ipython3",
   "version": "3.11.3"
  },
  "orig_nbformat": 4
 },
 "nbformat": 4,
 "nbformat_minor": 2
}
